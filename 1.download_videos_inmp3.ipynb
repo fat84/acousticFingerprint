{
 "cells": [
  {
   "cell_type": "markdown",
   "metadata": {},
   "source": [
    "### This is a program to download mp3 files from YouTube\n",
    "The implementation is using two different methods: 1) Using the youtube-dl package, and 2) Use the YouTubeInMp3 API\n"
   ]
  },
  {
   "cell_type": "markdown",
   "metadata": {},
   "source": [
    "##### The dependencies for many AV packages in Python are a couple\n",
    "1) FFMPEG decoder to convert from m4a format to mp3. Instructions on how to install it are here: https://superuser.com/questions/624561/install-ffmpeg-on-os-x\n",
    "\n",
    "Homebrew\n",
    "\n",
    "Homebrew has a formula for stable FFmpeg releases. This will get you running pretty fast. First, install Homebrew by opening Terminal.app and and pasting this. Follow all the instructions closely!\n",
    "\n",
    "ruby -e \"$(curl -fsSL https://raw.githubusercontent.com/Homebrew/install/master/install)\"\n",
    "\n",
    "Then install FFmpeg through the ffmpeg formula:\n",
    "\n",
    "brew install ffmpeg\n",
    "\n",
    "This will download a lot of dependencies such as x264, but after that you should be good to go.\n",
    "For additional options, check the output of brew info ffmpeg. You can, for example, add the following options, which are normally disabled:\n",
    "\n",
    "brew install ffmpeg --with-fdk-aac --with-ffplay --with-freetype --with-libass  --with-libvorbis --with-libvpx --with-opus --with-x265\n",
    "\n",
    "To update ffmpeg later on, run:\n",
    "brew update && brew upgrade ffmpeg\n"
   ]
  },
  {
   "cell_type": "code",
   "execution_count": 2,
   "metadata": {},
   "outputs": [
    {
     "name": "stdout",
     "output_type": "stream",
     "text": [
      "\n",
      " Downloading: https://www.youtube.com/watch?v=SIOiqyC9vQE ...\n",
      "[youtube] SIOiqyC9vQE: Downloading webpage\n",
      "[youtube] SIOiqyC9vQE: Downloading video info webpage\n",
      "[youtube] SIOiqyC9vQE: Extracting video information\n",
      "[youtube] SIOiqyC9vQE: Downloading MPD manifest\n",
      "[download] Destination: /Users/valentin/Documents/MusicEngine/mp3/SIOiqyC9vQE.webm\n",
      "[download] 100% of 5.36MiB in 00:0160MiB/s ETA 00:0005\n",
      "[ffmpeg] Destination: /Users/valentin/Documents/MusicEngine/mp3/SIOiqyC9vQE.mp3\n",
      "Deleting original file /Users/valentin/Documents/MusicEngine/mp3/SIOiqyC9vQE.webm (pass -k to keep)\n",
      "\n",
      "The downloading of videos has been completed ....\n",
      "\n",
      "Go get a coffee\n"
     ]
    }
   ],
   "source": [
    "### Method 1 - download using youtube-dl package (downloads and converts the m4a to mp3)\n",
    "\n",
    "# Source for code is here: http://willdrevo.com/downloading-youtube-and-soundcloud-audio-with-python-and-pandas\n",
    "# More here: https://stackoverflow.com/questions/27473526/download-only-audio-from-youtube-video-using-youtube-dl-in-python-script\n",
    "# More on youtube-dl here: https://github.com/rg3/youtube-dl/blob/master/README.md#readme\n",
    "\n",
    "# The content from this script is downloaded here by default: /Users/valentin/Documents/GitHub/MusicEngine\n",
    "\n",
    "\n",
    "### NEED TO ADD - error handling. Sometimes it can't download a song. Just try, and if it can't move on.\n",
    "### Need to list out at the end which links were not downloaded\n",
    "\n",
    "\n",
    "# Import needed libraries\n",
    "import youtube_dl\n",
    "import pandas as pd\n",
    "import time\n",
    "import random\n",
    "\n",
    "\n",
    "video_links_input_location = \"/Users/valentin/Documents/MusicEngine\"\n",
    "\n",
    "# Read the XLS file with the links Bijan sent to YouTube\n",
    "download_videos = pd.read_excel(video_links_input_location + \"/download_videos.xlsx\")\n",
    "video_links = download_videos['video_link'].tolist()\n",
    "\n",
    "\n",
    "# Loop through the list of videos\n",
    "for i in range(len(video_links)):\n",
    "    \n",
    "    video_url = video_links[i]\n",
    "    print (\"\\n\", \"Downloading: \" + video_url + \" ...\")\n",
    "    time.sleep(random.uniform(0, 0.5))\n",
    "\n",
    "    # Provide options to the youtube-dl package\n",
    "    options = {\n",
    "      'format': 'bestaudio/best',\n",
    "      'extractaudio' : True,                                                  # Only keep the audio\n",
    "      'audioformat' : \"mp3\",                                                  # Convert donwloaded file to mp3 \n",
    "      'outtmpl': '/Users/valentin/Documents/MusicEngine/mp3/%(id)s.%(ext)s',  # name the file the ID of the video\n",
    "      'noplaylist' : True,                                                    # only download single song, not playlist\n",
    "      'postprocessors': [{                                                    # The postprocessor specifies to convert the downloaded content to MP3. The original download is usually in m4a format\n",
    "          'key': 'FFmpegExtractAudio',\n",
    "          'preferredcodec': 'mp3',\n",
    "          'preferredquality': '192'\n",
    "      }]\n",
    "    }\n",
    "\n",
    "    with youtube_dl.YoutubeDL(options) as ydl:\n",
    "        ydl.download([video_url])\n",
    "\n",
    "\n",
    "print (\"\\nThe downloading of videos has been completed ....\")\n",
    "print (\"\\nGo get a coffee\")\n",
    "\n",
    "# Download metadata\n",
    "#ydl = youtube_dl.YoutubeDL()\n",
    "#r = None\n",
    "\n",
    "#with ydl:\n",
    "    # don't download, much faster \n",
    "#    r = ydl.extract_info(video_url, download=False)  \n",
    "\n",
    "# print some typical fields\n",
    "#print \"%s uploaded by '%s', has %d views, %d likes, and %d dislikes\" % (\n",
    "#    r['title'], r['uploader'], r['view_count'], r['like_count'], r['dislike_count'])\n",
    "    "
   ]
  },
  {
   "cell_type": "code",
   "execution_count": null,
   "metadata": {
    "collapsed": true
   },
   "outputs": [],
   "source": []
  },
  {
   "cell_type": "code",
   "execution_count": null,
   "metadata": {
    "collapsed": true
   },
   "outputs": [],
   "source": []
  },
  {
   "cell_type": "code",
   "execution_count": null,
   "metadata": {
    "collapsed": true
   },
   "outputs": [],
   "source": [
    "#### Method 2 - using PaFy (it works - However, I need to convert the auido from m4a to mp3 afterwards)\n",
    "# https://pypi.python.org/pypi/pafy\n",
    "\n",
    "import pafy\n",
    "\n",
    "# Create a video instance from a YouTube url:\n",
    "\n",
    "url = \"https://www.youtube.com/watch?v=0lvDqjB9RZI\"\n",
    "video = pafy.new(url)\n",
    "\n",
    "# Get certain attributes:\n",
    "video.title\n",
    "video.rating\n",
    "video.viewcount\n",
    "video.author\n",
    "video.length\n",
    "video.duration\n",
    "video.likes\n",
    "video.dislikes\n",
    "print(video.description)\n",
    "\n",
    "\n",
    "# List available streams for a video:\n",
    "streams = video.streams\n",
    "for s in streams:\n",
    "    print(s)\n",
    "\n",
    "# Show all formats, file-sizes and their download url:\n",
    "for s in streams:\n",
    "    print(s.resolution, s.extension, s.get_filesize(), s.url)\n",
    "\n",
    "#### Audio functions\n",
    "# Get audio-only streams (m4a and/or ogg vorbis):\n",
    "audiostreams = video.audiostreams\n",
    "for a in audiostreams:\n",
    "    print(a.bitrate, a.extension, a.get_filesize())\n",
    "\n",
    "# Download the 2nd audio stream from the above list:\n",
    "audiostreams[1].download()\n",
    "\n",
    "# Get the best quality audio stream:\n",
    "bestaudio = video.getbestaudio()\n",
    "bestaudio.bitrate\n",
    "\n",
    "# Download the best quality audio file:\n",
    "bestaudio.download()\n"
   ]
  },
  {
   "cell_type": "code",
   "execution_count": null,
   "metadata": {
    "collapsed": true
   },
   "outputs": [],
   "source": []
  },
  {
   "cell_type": "code",
   "execution_count": null,
   "metadata": {
    "collapsed": true
   },
   "outputs": [],
   "source": []
  }
 ],
 "metadata": {
  "kernelspec": {
   "display_name": "Python [conda root]",
   "language": "python",
   "name": "conda-root-py"
  },
  "language_info": {
   "codemirror_mode": {
    "name": "ipython",
    "version": 3
   },
   "file_extension": ".py",
   "mimetype": "text/x-python",
   "name": "python",
   "nbconvert_exporter": "python",
   "pygments_lexer": "ipython3",
   "version": "3.5.2"
  }
 },
 "nbformat": 4,
 "nbformat_minor": 2
}

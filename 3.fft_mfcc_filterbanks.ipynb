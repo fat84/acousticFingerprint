{
 "cells": [
  {
   "cell_type": "markdown",
   "metadata": {},
   "source": [
    "### This is an implementation of an FFT on a song\n",
    "The inspiration for this implementation came from http://haythamfayek.com/2016/04/21/speech-processing-for-machine-learning.html"
   ]
  },
  {
   "cell_type": "code",
   "execution_count": 10,
   "metadata": {
    "collapsed": true
   },
   "outputs": [],
   "source": [
    "import matplotlib.pyplot as plt\n",
    "from scipy.fftpack import fft, dct\n",
    "from scipy.io import wavfile\n",
    "from scipy.signal import blackman, hanning, hamming\n",
    "import numpy as np\n",
    "from scipy import signal\n",
    "\n",
    "%matplotlib inline\n",
    "\n",
    "# Location of the song\n",
    "# files_location = \"/Users/valentin/Google Drive/dt_16bars_102rap.wav\"\n",
    "files_location = \"C:/Users/bre49823/Google Drive/dt_16bars_102rap.wav\""
   ]
  },
  {
   "cell_type": "markdown",
   "metadata": {},
   "source": [
    "#### Read in the data and create a plot of the raw audio file\n",
    "The raw data is in the time domain and using Fourier transform I'll convert it to frequency spectrum"
   ]
  },
  {
   "cell_type": "code",
   "execution_count": 11,
   "metadata": {
    "collapsed": true
   },
   "outputs": [],
   "source": [
    "# Read in the raw audio data and get the sample rate (in samples/sec)\n",
    "sample_rate, soundtrack_data = wavfile.read(files_location)\n",
    "audio_data = soundtrack_data.T[0]                      # this is a two channel soundtrack, get only one of the tracks\n",
    "audio_data = audio_data[0:int(10 * sample_rate)]      # keep only the first 10 seconds\n",
    "\n",
    "time = np.arange(0, float(audio_data.shape[0]), 1) / sample_rate"
   ]
  },
  {
   "cell_type": "code",
   "execution_count": null,
   "metadata": {},
   "outputs": [],
   "source": [
    "# Plot the raw signal - amplitude (or loudness) over time\n",
    "plt.figure(figsize = (25, 15))\n",
    "plt.plot(time, audio_data, linewidth = 0.1, alpha = 2, color='#ff0000')\n",
    "plt.xlabel(\"Time (s)\")\n",
    "plt.ylabel(\"Amplitude\")\n",
    "plt.title(\"Audio signal in the time domain\")"
   ]
  },
  {
   "cell_type": "markdown",
   "metadata": {},
   "source": [
    "#### Apply pre-emphasis filter to the raw audio data\n",
    "This makes the signal cleaner with less noise. It is done to balance the frequency spectrum since high frequencies have lower magnitude than lower frequncies.\n",
    "<br>\n",
    "The pre-emphasis filter is y(t) = x(t) - emphasis_coeff * (t - 1)\n",
    "<br>\n",
    "Typical values for the emphasis coefficients are 0.95 and 0.97"
   ]
  },
  {
   "cell_type": "code",
   "execution_count": null,
   "metadata": {},
   "outputs": [],
   "source": [
    "# Apply pre-emphasis filter\n",
    "emphasis_coeff = 0.95\n",
    "emphasized_audio_data = np.append(audio_data[0], audio_data[1:] - emphasis_coeff * audio_data[:-1])\n",
    "\n",
    "# Plot the emphasized signal\n",
    "plt.figure(figsize = (25, 15))\n",
    "plt.plot(time, emphasized_audio_data, linewidth = 0.1, alpha = 2, color='#ff0000')\n",
    "plt.xlabel(\"Time (s)\")\n",
    "plt.ylabel(\"Amplitude\")\n",
    "plt.title(\"Pre-emphaised audio signal in the time domain\")"
   ]
  },
  {
   "cell_type": "markdown",
   "metadata": {
    "collapsed": true
   },
   "source": [
    "#### Split the audio data into frames\n",
    "When we apply Fourier transform it needs to be applied over short chunks of the raw audio data. The frequencies in the audio signal change over time, and if we do the transformation using the whole length of the song, we would lose these changes in frequencies.\n",
    "<n>\n",
    "The frames need to be overlapping. According to Haytham Fayek (http://haythamfayek.com/2016/04/21/speech-processing-for-machine-learning.html), frame sizes for speech processing range from 20ms to 40ms with 50%(+/-10%) overlap between consecutive frames.\n",
    "<n>\n",
    "I'll use 25ms for the frame size and 15ms overlap. The difference between the frame length and the overlap is called a stride (i.e. stride = frame length - overlap)"
   ]
  },
  {
   "cell_type": "code",
   "execution_count": 39,
   "metadata": {},
   "outputs": [
    {
     "name": "stdout",
     "output_type": "stream",
     "text": [
      "(0.01, 1103, 441, 441000, 998)\n",
      "(441000, 441221, (882221L,), (1323221L,))\n"
     ]
    }
   ],
   "source": [
    "frame_size = 0.025\n",
    "frame_overlap = 0.015\n",
    "\n",
    "# Calculate the length of each frame and the step for moving forward the FFT\n",
    "frame_stride = round(frame_size - frame_overlap, 3)\n",
    "frame_length, frame_step = int(round(frame_size * sample_rate)), int(round(frame_stride * sample_rate))\n",
    "\n",
    "# Calculate the total number of frames\n",
    "signal_length = len(emphasized_audio_data)\n",
    "number_frames = int(np.ceil(float(np.abs(signal_length - frame_length)) / frame_step))\n",
    "\n",
    "\n",
    "# Pad the raw signal data with zeros to make sure that all frames have equal number of samples\n",
    "pad_audio_length = number_frames * frame_step + frame_length          # This number should be very close to the audio signal length. The difference is caused by the rounding in the calculation of number_frames\n",
    "zeros_vector = np.zeros((pad_audio_length + signal_length))\n",
    "pad_signal = np.append(emphasized_audio_data, zeros_vector)\n",
    "\n",
    "# Do some validation check\n",
    "print (frame_stride, frame_length, frame_step, signal_length, number_frames)\n",
    "print (signal_length, pad_audio_length, zeros_vector.shape, pad_signal.shape)"
   ]
  },
  {
   "cell_type": "code",
   "execution_count": 104,
   "metadata": {
    "scrolled": true
   },
   "outputs": [
    {
     "name": "stdout",
     "output_type": "stream",
     "text": [
      "((998L, 1103L), (998L, 1103L))\n"
     ]
    },
    {
     "data": {
      "text/plain": [
       "array([  428.35,  1280.  ,  1942.65,  1768.7 ,  1144.75,   641.9 ,\n",
       "          79.9 ,  -121.9 ,   265.9 ,   495.2 ])"
      ]
     },
     "execution_count": 104,
     "metadata": {},
     "output_type": "execute_result"
    }
   ],
   "source": [
    "frames_idx = np.tile(np.arange(0, frame_length), (number_frames, 1)) + np.tile(np.arange(0, number_frames * frame_step, frame_step), (frame_length, 1)).T \n",
    "frames = pad_signal[frames_idx.astype(np.int32 , copy = False)]\n",
    "\n",
    "print (frames.shape, frames_idx.shape)\n",
    "frames[1, 100:110]"
   ]
  },
  {
   "attachments": {},
   "cell_type": "markdown",
   "metadata": {
    "collapsed": true
   },
   "source": [
    "#### Create a window function for the Fourier transform\n",
    "\n",
    "The windows are used for smoothing values of the raw signal in each time frame. They smooth the discontinuities at the end of the frames of the raw signal, and help with spectral leakage - in essence, this is anti alising.\n",
    "<br>\n",
    "\n",
    "There are three widely used windows in the DSP literature - Hanning, Hamming and Blackman:\n",
    "###### Hamming window\n",
    "$$w(n) = 0.54 - 0.46\\cos\\frac{2\\pi n}{N - 1}, where\\  0 <= n <= N - 1$$\n",
    "###### Hanning window\n",
    "$$w(n) = 0.5 - 0.5\\cos\\frac{2\\pi n}{N - 1}, where\\  0 <= n <= N - 1$$\n",
    "###### Blackman window\n",
    "$$w(n) = 0.42 - 0.5\\cos\\frac{2\\pi n}{N} + 0.08\\cos\\frac{4\\pi n}{N}$$\n",
    "\n",
    "More can be found here https://docs.scipy.org/doc/numpy-1.13.0/reference/routines.window.html"
   ]
  },
  {
   "cell_type": "code",
   "execution_count": 93,
   "metadata": {},
   "outputs": [
    {
     "data": {
      "text/plain": [
       "<matplotlib.legend.Legend at 0x1eed3ac8>"
      ]
     },
     "execution_count": 93,
     "metadata": {},
     "output_type": "execute_result"
    },
    {
     "data": {
      "image/png": "[encoded data removed]",
      "text/plain": [
       "<matplotlib.figure.Figure at 0x1ec33a58>"
      ]
     },
     "metadata": {},
     "output_type": "display_data"
    }
   ],
   "source": [
    "# Plot sample windows with frame_length = 200\n",
    "# Populate windows are Hamming, Hanning and Blackman - I'll use a Hamming window\n",
    "plt.plot(np.hamming(100), label = \"Hamming window\")\n",
    "plt.plot(np.hanning(100), label = \"Hanning window\")\n",
    "plt.plot(np.blackman(100), label = \"Blackman window\")\n",
    "plt.ylabel(\"Amplitude\")\n",
    "plt.xlabel(\"Number of samples within the window\")\n",
    "plt.legend(bbox_to_anchor = (0., 1.02, 1., .102), loc = 0, ncol = 2)"
   ]
  },
  {
   "cell_type": "code",
   "execution_count": 106,
   "metadata": {},
   "outputs": [
    {
     "name": "stdout",
     "output_type": "stream",
     "text": [
      "(998L, 1103L)\n"
     ]
    },
    {
     "data": {
      "text/plain": [
       "array([  51.88741057,  155.05050901,  235.31943072,  214.24830881,\n",
       "        138.66724233,   77.7554076 ,    9.67854349,  -14.76613832,\n",
       "         32.20932058,   59.98516567])"
      ]
     },
     "execution_count": 106,
     "metadata": {},
     "output_type": "execute_result"
    }
   ],
   "source": [
    "# frames *= np.hamming(frame_length)                                  # Use the method from the Numpy module\n",
    "frames *= 0.54 - 0.46 * np.cos((2 * np.pi * n) / (frame_length - 1))  # Use the actual formula\n",
    "\n",
    "print (frames.shape)\n",
    "frames[1, 100:110]"
   ]
  },
  {
   "cell_type": "code",
   "execution_count": null,
   "metadata": {
    "collapsed": true
   },
   "outputs": [],
   "source": [
    "# Calculate Fourier transformation\n"
   ]
  },
  {
   "cell_type": "code",
   "execution_count": null,
   "metadata": {
    "collapsed": true
   },
   "outputs": [],
   "source": [
    "# Plot spectrogram\n",
    "\n",
    "def plotstft(samples, samplerate, binsize=2**10, plotpath=None, colormap=\"jet\"):\n",
    "    s = stft(samples, binsize)\n",
    "    \n",
    "    sshow, freq = logscale_spec(s, factor=16.0, sr=samplerate)\n",
    "    ims = 20.*np.log10(1e-12+np.abs(sshow)/10e-6) # amplitude to decibel\n",
    "    \n",
    "    timebins, freqbins = np.shape(ims)\n",
    "    \n",
    "    plt.figure(figsize=(15, 7.5))\n",
    "    plt.imshow(np.transpose(ims), origin=\"lower\", aspect=\"auto\", cmap=colormap, interpolation=\"none\")"
   ]
  },
  {
   "cell_type": "code",
   "execution_count": null,
   "metadata": {
    "collapsed": true
   },
   "outputs": [],
   "source": [
    "# Create filter banks\n"
   ]
  },
  {
   "cell_type": "code",
   "execution_count": null,
   "metadata": {
    "collapsed": true
   },
   "outputs": [],
   "source": []
  },
  {
   "cell_type": "code",
   "execution_count": null,
   "metadata": {
    "collapsed": true
   },
   "outputs": [],
   "source": []
  },
  {
   "cell_type": "code",
   "execution_count": null,
   "metadata": {
    "collapsed": true
   },
   "outputs": [],
   "source": []
  }
 ],
 "metadata": {
  "kernelspec": {
   "display_name": "Python 2",
   "language": "python",
   "name": "python2"
  },
  "language_info": {
   "codemirror_mode": {
    "name": "ipython",
    "version": 2
   },
   "file_extension": ".py",
   "mimetype": "text/x-python",
   "name": "python",
   "nbconvert_exporter": "python",
   "pygments_lexer": "ipython2",
   "version": "2.7.13"
  }
 },
 "nbformat": 4,
 "nbformat_minor": 2
}

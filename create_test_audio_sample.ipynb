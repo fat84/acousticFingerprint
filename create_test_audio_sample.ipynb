{
 "cells": [
  {
   "cell_type": "markdown",
   "metadata": {},
   "source": [
    "### This code is used to create a test sample for the acoustic fingerprinting algorithm\n"
   ]
  },
  {
   "cell_type": "code",
   "execution_count": 41,
   "metadata": {},
   "outputs": [],
   "source": [
    "from scipy.io import wavfile\n",
    "\n",
    "# Location of sample\n",
    "original_song = \"C:/Users/bre49823/Google Drive/MusicEngine/wav/dt16bars102rap.wav\"\n",
    "sample_rate, soundtrack_data = wavfile.read(original_song)\n",
    "\n",
    "wavfile.write(data=soundtrack_data[int(5 * sample_rate):int(10 * sample_rate)],\n",
    "              filename=\"C:/Users/bre49823/Google Drive/MusicEngine/sample/sampleDt16bars102rap_middle.wav\",\n",
    "              rate=sample_rate)"
   ]
  },
  {
   "cell_type": "code",
   "execution_count": null,
   "metadata": {
    "collapsed": true
   },
   "outputs": [],
   "source": []
  }
 ],
 "metadata": {
  "kernelspec": {
   "display_name": "Python 2",
   "language": "python",
   "name": "python2"
  },
  "language_info": {
   "codemirror_mode": {
    "name": "ipython",
    "version": 2
   },
   "file_extension": ".py",
   "mimetype": "text/x-python",
   "name": "python",
   "nbconvert_exporter": "python",
   "pygments_lexer": "ipython2",
   "version": "2.7.13"
  }
 },
 "nbformat": 4,
 "nbformat_minor": 2
}

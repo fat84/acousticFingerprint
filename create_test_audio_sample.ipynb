{
 "cells": [
  {
   "cell_type": "markdown",
   "metadata": {},
   "source": [
    "### Create a short test sample\n",
    "This code is used for subsetting a sample from a song"
   ]
  },
  {
   "cell_type": "code",
   "execution_count": 4,
   "metadata": {},
   "outputs": [],
   "source": [
    "from scipy.io import wavfile\n",
    "\n",
    "# Location of sample\n",
    "song_dir = \"/Users/valentin/GoogleDrive/MusicEngine/wav/\"\n",
    "song = \"dt16bars102rap.wav\"\n",
    "\n",
    "# Starting position of sample (seconds) and length of the sample (in seconds)\n",
    "sample_start = 5\n",
    "sample_end = 5\n",
    "sample_length = sample_start + sample_end\n",
    "\n",
    "sample_rate, soundtrack_data = wavfile.read(song_dir + song)\n",
    "\n",
    "wavfile.write(data = soundtrack_data[int(sample_start * sample_rate):int(sample_length * sample_rate)],\n",
    "              filename = \"/Users/valentin/GoogleDrive/MusicEngine/sample\" + \"sample_\" + song + \"_middle\" + \".wav\",\n",
    "              rate = sample_rate)"
   ]
  },
  {
   "cell_type": "code",
   "execution_count": null,
   "metadata": {
    "collapsed": true
   },
   "outputs": [],
   "source": []
  }
 ],
 "metadata": {
  "kernelspec": {
   "display_name": "Python [conda env:py27]",
   "language": "python",
   "name": "conda-env-py27-py"
  },
  "language_info": {
   "codemirror_mode": {
    "name": "ipython",
    "version": 2
   },
   "file_extension": ".py",
   "mimetype": "text/x-python",
   "name": "python",
   "nbconvert_exporter": "python",
   "pygments_lexer": "ipython2",
   "version": "2.7.13"
  }
 },
 "nbformat": 4,
 "nbformat_minor": 2
}

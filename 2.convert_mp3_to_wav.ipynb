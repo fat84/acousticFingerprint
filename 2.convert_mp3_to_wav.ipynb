{
 "cells": [
  {
   "cell_type": "code",
   "execution_count": 2,
   "metadata": {},
   "outputs": [],
   "source": [
    "# Convert MP3 to WAV\n",
    "# Music stored as .WAV, are the audio waves stored as numbers, and MP3 files are a compressed version of the .WAV\n",
    "# source: https://stackoverflow.com/questions/3049572/how-to-convert-mp3-to-wav-in-python\n",
    "\n",
    "# Another way to convert from mp3 to wav\n",
    "# import subprocess\n",
    "# subprocess.call(['ffmpeg', '-i', '/Users/valentin/Desktop/temp/0lvDqjB9RZI.mp3', '/Users/valentin/Desktop/temp/0lvDqjB9RZI.wav'])\n",
    "\n",
    "import pydub\n",
    "import os\n",
    "\n",
    "files_location = \"/Users/valentin/Documents/MusicEngine/\"\n",
    "song_id_list = [\"k3lz248TxUA\"]\n",
    "\n",
    "for song_id in song_id_list:\n",
    "    sound = pydub.AudioSegment.from_mp3(files_location + \"mp3/\" + song_id + \".mp3\")\n",
    "    sound.export(files_location + \"wav/\" + song_id + \".wav\", format = \"wav\")\n"
   ]
  },
  {
   "cell_type": "code",
   "execution_count": null,
   "metadata": {
    "collapsed": true
   },
   "outputs": [],
   "source": []
  },
  {
   "cell_type": "code",
   "execution_count": null,
   "metadata": {
    "collapsed": true
   },
   "outputs": [],
   "source": []
  }
 ],
 "metadata": {
  "kernelspec": {
   "display_name": "Python [conda root]",
   "language": "python",
   "name": "conda-root-py"
  },
  "language_info": {
   "codemirror_mode": {
    "name": "ipython",
    "version": 3
   },
   "file_extension": ".py",
   "mimetype": "text/x-python",
   "name": "python",
   "nbconvert_exporter": "python",
   "pygments_lexer": "ipython3",
   "version": "3.5.2"
  }
 },
 "nbformat": 4,
 "nbformat_minor": 2
}

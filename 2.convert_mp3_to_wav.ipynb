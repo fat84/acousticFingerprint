{
 "cells": [
  {
   "cell_type": "code",
   "execution_count": 6,
   "metadata": {},
   "outputs": [
    {
     "name": "stdout",
     "output_type": "stream",
     "text": [
      "Starting the conversion from MP3 to WAV...\n",
      "\n",
      "Convert song:  TARGET_Biz_Amulet.mp3\n",
      "Convert song:  TEFwE27yZl0.mp3\n",
      "Convert song:  UIK0eDy22K0.mp3\n",
      "Convert song:  uXtfQCNf3JA.mp3\n",
      "\n",
      "The conversion for all songs was completed\n"
     ]
    }
   ],
   "source": [
    "# Convert MP3 to WAV\n",
    "# Music stored as .WAV, are the audio waves stored as numbers, and MP3 files are a compressed version of the .WAV\n",
    "# source: https://stackoverflow.com/questions/3049572/how-to-convert-mp3-to-wav-in-python\n",
    "\n",
    "# Another way to convert from mp3 to wav\n",
    "# import subprocess\n",
    "# subprocess.call(['ffmpeg', '-i', '/Users/valentin/Desktop/temp/0lvDqjB9RZI.mp3', '/Users/valentin/Desktop/temp/0lvDqjB9RZI.wav'])\n",
    "\n",
    "import pydub\n",
    "import os\n",
    "import time\n",
    "import re\n",
    "\n",
    "files_location_in = \"/Users/valentin/Documents/MusicEngine/mp3/\"\n",
    "files_location_out = \"/Users/valentin/Documents/MusicEngine/wav/\"\n",
    "\n",
    "# Create a list with all the MP3 files in the directory and convert from MP3 to WAV\n",
    "song_id_list = os.listdir(files_location_in)\n",
    "\n",
    "print(\"Starting the conversion from MP3 to WAV...\\n\")\n",
    "time.sleep(1)\n",
    "\n",
    "# Convert MP3 and save as WAV\n",
    "for song_id in song_id_list[37:41]:    \n",
    "    if song_id.find(\"mp3\") > 0:\n",
    "        print(\"Convert song: \", song_id)\n",
    "        sound = pydub.AudioSegment.from_mp3(files_location_in + song_id)\n",
    "        sound.export(files_location_out + song_id.split(\".mp3\")[0] + \".wav\", format = \"wav\")\n",
    "print(\"\\nThe conversion for all songs was completed\")"
   ]
  },
  {
   "cell_type": "code",
   "execution_count": null,
   "metadata": {
    "collapsed": true
   },
   "outputs": [],
   "source": []
  },
  {
   "cell_type": "code",
   "execution_count": null,
   "metadata": {
    "collapsed": true
   },
   "outputs": [],
   "source": []
  }
 ],
 "metadata": {
  "kernelspec": {
   "display_name": "Python [conda root]",
   "language": "python",
   "name": "conda-root-py"
  },
  "language_info": {
   "codemirror_mode": {
    "name": "ipython",
    "version": 3
   },
   "file_extension": ".py",
   "mimetype": "text/x-python",
   "name": "python",
   "nbconvert_exporter": "python",
   "pygments_lexer": "ipython3",
   "version": "3.5.2"
  }
 },
 "nbformat": 4,
 "nbformat_minor": 2
}

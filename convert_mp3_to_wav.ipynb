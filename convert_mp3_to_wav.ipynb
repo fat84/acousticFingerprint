{
 "cells": [
  {
   "cell_type": "markdown",
   "metadata": {},
   "source": [
    "### This is a program to convert mp3 files to WAV format"
   ]
  },
  {
   "cell_type": "code",
   "execution_count": null,
   "metadata": {
    "collapsed": true,
    "scrolled": true
   },
   "outputs": [],
   "source": [
    "# Convert MP3 to WAV\n",
    "# Music stored as .WAV, are the audio waves stored as numbers, and MP3 files are a compressed version of the .WAV\n",
    "# source: https://stackoverflow.com/questions/3049572/how-to-convert-mp3-to-wav-in-python\n",
    "\n",
    "# Another way to convert from mp3 to wav\n",
    "# import subprocess\n",
    "# subprocess.call(['ffmpeg', '-i', '/Users/valentin/Desktop/temp/0lvDqjB9RZI.mp3', '/Users/valentin/Desktop/temp/0lvDqjB9RZI.wav'])\n",
    "\n",
    "# The bitrate can be controlled in the export() method, but I left it by default. All songs from YouTube seem to be in 197kb bitrate\n",
    "\n",
    "\n",
    "import pydub\n",
    "import os\n",
    "import time\n",
    "import re\n",
    "\n",
    "files_location_in = \"/Volumes/EXTERNAL/MusicEngine/mp3/non_cases/\"\n",
    "files_location_out = \"/Volumes/EXTERNAL/MusicEngine/wav/non_cases/\"\n",
    "converted_mp3_files = []\n",
    "\n",
    "# Create a list with all the MP3 files in the directory and convert from MP3 to WAV\n",
    "mp3_songs = [x.split(\".mp3\")[0] for x in os.listdir(files_location_in)]\n",
    "converted_mp3_files_idx = [x.split(\".wav\")[0] for x in os.listdir(files_location_out)]\n",
    "song_id_list = [(x + \".mp3\") for x in (list(set(mp3_songs) - set(converted_mp3_files_idx)))]\n",
    "\n",
    "song_counter = len(song_id_list) - 1\n",
    "\n",
    "print(\"Starting the conversion from MP3 to WAV...\\n\")\n",
    "time.sleep(1)\n",
    "\n",
    "# Convert MP3 and save as WAV\n",
    "for song_id in song_id_list:    \n",
    "    if song_id.find(\"mp3\") > 0:\n",
    "        print(\"\\nConvert song: %s\" % song_id)\n",
    "        sound = pydub.AudioSegment.from_mp3(files_location_in + song_id)\n",
    "        sound.export(files_location_out + song_id.split(\".mp3\")[0] + \".wav\", format = \"wav\", bitrate = None)\n",
    "        converted_mp3_files.append(song_id)\n",
    "        \n",
    "    print(\"->> %s more videos to download\" % song_counter)\n",
    "    song_counter -= 1\n",
    "\n",
    "print(\"\\nThe conversion for all songs was completed\")\n"
   ]
  },
  {
   "cell_type": "code",
   "execution_count": null,
   "metadata": {
    "collapsed": true
   },
   "outputs": [],
   "source": []
  },
  {
   "cell_type": "code",
   "execution_count": null,
   "metadata": {
    "collapsed": true
   },
   "outputs": [],
   "source": []
  }
 ],
 "metadata": {
  "kernelspec": {
   "display_name": "Python 2",
   "language": "python",
   "name": "python2"
  },
  "language_info": {
   "codemirror_mode": {
    "name": "ipython",
    "version": 2
   },
   "file_extension": ".py",
   "mimetype": "text/x-python",
   "name": "python",
   "nbconvert_exporter": "python",
   "pygments_lexer": "ipython2",
   "version": "2.7.13"
  }
 },
 "nbformat": 4,
 "nbformat_minor": 2
}

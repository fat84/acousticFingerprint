{
 "cells": [
  {
   "cell_type": "code",
   "execution_count": null,
   "metadata": {
    "scrolled": true
   },
   "outputs": [],
   "source": [
    "# Create a spectrogram using Mel cepstral filter\n",
    "\n",
    "# From Wikipedia: https://en.wikipedia.org/wiki/Mel-frequency_cepstrum\n",
    "# In sound processing, the mel-frequency cepstrum (MFC) is a representation of the short-term power spectrum\n",
    "# of a sound, based on a linear cosine transform of a log power spectrum on a nonlinear mel scale of frequency.\n",
    "\n",
    "# Create spectrograms with Short-term Fourier Transformation: https://librosa.github.io/librosa/generated/librosa.core.stft.html#librosa.core.stft\n",
    "\n",
    "#%matplotlib inline    # Enable this to print inline in the notebook\n",
    "\n",
    "import librosa\n",
    "import numpy as np\n",
    "import matplotlib\n",
    "import matplotlib.pyplot as plt\n",
    "import os\n",
    "import time\n",
    "\n",
    "# The librosa.display module needs to be explicitly imported (https://github.com/librosa/librosa/issues/441)\n",
    "import librosa.display\n",
    "\n",
    "\n",
    "files_location = \"/Volumes/EXTERNAL/MusicEngine/wav/\"\n",
    "mel_spectrogram_location = \"/Volumes/EXTERNAL/MusicEngine/mel_spectrogram/\"\n",
    "\n",
    "song_id_list = os.listdir(files_location)\n",
    "#song_id_list = \"dt_16bars_102rap\"\n",
    "song_id_list = song_id_list[310:]\n",
    "\n",
    "for song in song_id_list:\n",
    "        if song.split(\".\")[1] == \"wav\":\n",
    "            time.sleep(1)\n",
    "            print(\"Working on song ID: \" + song.split(\".\")[0])\n",
    "            \n",
    "            song_path = files_location + song\n",
    "            audio_data, sampling_rate = librosa.load(song_path,\n",
    "                                                     mono = True,                # When mono = True, the values appear to be averaged. They are slightly different from just taking one of the channels  \n",
    "                                                     sr = 11025,                 # The downsampling doesn't seem to change ther results\n",
    "                                                     res_type = \"kaiser_best\")   # Downsampling method. For a faster method use \"kaiser_fast\"\n",
    "            \n",
    "\n",
    "            # Calculate the Mel spectrum\n",
    "            mel_spectrogram = librosa.feature.melspectrogram(\n",
    "                y = audio_data,\n",
    "                sr = sampling_rate,\n",
    "                n_mels = 128,\n",
    "                n_fft = 2048,         # Length of the window for the FFT\n",
    "                hop_length = 1024)    # Number of samples between successive frames\n",
    "\n",
    "            # Calculate audio dB along the song\n",
    "            spectrogram = librosa.power_to_db(\n",
    "                mel_spectrogram,\n",
    "                ref = np.max)\n",
    "\n",
    "            # Plot Mel spectrogram - do not print out axes names, and the \n",
    "            plt.figure(figsize = (12, 8))\n",
    "            librosa.display.specshow(spectrogram\n",
    "                                     ,fmax = 20000\n",
    "                                     #,y_axis = \"mel\"\n",
    "                                     #,x_axis = \"time\"\n",
    "                                    )\n",
    "            #plt.colorbar(format = \"%+2.0f dB\")\n",
    "            #plt.title('Mel spectrogram')\n",
    "            #plt.tight_layout()\n",
    "            plt.savefig(mel_spectrogram_location + song.split(\".\")[0] + \".png\")\n",
    "print(\"Done creating spectrograms... \\nCheck the results\")"
   ]
  },
  {
   "cell_type": "code",
   "execution_count": 8,
   "metadata": {},
   "outputs": [
    {
     "name": "stdout",
     "output_type": "stream",
     "text": [
      "Variable                   Type       Data/Info\n",
      "-----------------------------------------------\n",
      "audio_data                 ndarray    2664752: 2664752 elems, type `float32`, 10659008 bytes (10.16522216796875 Mb)\n",
      "files_location             str        /Volumes/EXTERNAL/MusicEngine/wav/\n",
      "librosa                    module     <module 'librosa' from '/<...>ges/librosa/__init__.py'>\n",
      "matplotlib                 module     <module 'matplotlib' from<...>/matplotlib/__init__.py'>\n",
      "mel_spectrogram            ndarray    128x2603: 333184 elems, type `float64`, 2665472 bytes (2.5419921875 Mb)\n",
      "mel_spectrogram_location   str        /Volumes/EXTERNAL/MusicEngine/mel_spectrogram/\n",
      "np                         module     <module 'numpy' from '/Us<...>kages/numpy/__init__.py'>\n",
      "os                         module     <module 'os' from '/Users<...>nda/lib/python3.5/os.py'>\n",
      "plt                        module     <module 'matplotlib.pyplo<...>es/matplotlib/pyplot.py'>\n",
      "sampling_rate              int        22100\n",
      "song                       str        _QOACcgLY_4.wav\n",
      "song_id_list               list       n=3\n",
      "song_path                  str        /Volumes/EXTERNAL/MusicEngine/wav/_QOACcgLY_4.wav\n",
      "spectrogram                ndarray    128x2603: 333184 elems, type `float64`, 2665472 bytes (2.5419921875 Mb)\n",
      "time                       module     <module 'time' (built-in)>\n"
     ]
    }
   ],
   "source": [
    "%whos"
   ]
  },
  {
   "cell_type": "code",
   "execution_count": 9,
   "metadata": {
    "scrolled": true
   },
   "outputs": [
    {
     "data": {
      "text/plain": [
       "['0.ideas_for_classifying_songs.ipynb',\n",
       " '1.download_videos_inmp3.ipynb',\n",
       " '2.convert_mp3_to_wav.ipynb',\n",
       " '3.create_mel_spectrogram.ipynb',\n",
       " '3.extract_features_from_wav.ipynb',\n",
       " '3.fourier_transformation_implementation.ipynb',\n",
       " '4.classify_with_melspecgram_images.ipynb',\n",
       " 'dt_16bars_102rap.wav',\n",
       " 'find_factor.ipynb',\n",
       " 'test.wav',\n",
       " 'z3.extract_features_from_wav.ipynb',\n",
       " 'z3.extract_features_from_wav1.ipynb']"
      ]
     },
     "execution_count": 9,
     "metadata": {},
     "output_type": "execute_result"
    }
   ],
   "source": [
    "%system(ls)"
   ]
  },
  {
   "cell_type": "code",
   "execution_count": 11,
   "metadata": {
    "collapsed": true
   },
   "outputs": [],
   "source": [
    "# Test the quality of the audio when the songs are downsampled\n",
    "# I listened to the downsampled songs, and they seem to have very similar quality, but slighly lower frequency\n",
    "test_audio_data, sampling_rate = librosa.load(path = \"/Users/valentin/Documents/MusicEngine/wav/uXtfQCNf3JA.wav\",\n",
    "                                              sr = 11025,\n",
    "                                              mono = False)\n",
    "librosa.output.write_wav(y = test_audio_data,\n",
    "                         sr = sampling_rate,\n",
    "                         path =\"/Users/valentin/Documents/MusicEngine/wav/uXtfQCNf3JA_11025.wav\")"
   ]
  },
  {
   "cell_type": "code",
   "execution_count": null,
   "metadata": {
    "collapsed": true
   },
   "outputs": [],
   "source": []
  }
 ],
 "metadata": {
  "kernelspec": {
   "display_name": "Python [conda root]",
   "language": "python",
   "name": "conda-root-py"
  },
  "language_info": {
   "codemirror_mode": {
    "name": "ipython",
    "version": 3
   },
   "file_extension": ".py",
   "mimetype": "text/x-python",
   "name": "python",
   "nbconvert_exporter": "python",
   "pygments_lexer": "ipython3",
   "version": "3.5.2"
  }
 },
 "nbformat": 4,
 "nbformat_minor": 2
}

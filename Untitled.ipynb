{
 "cells": [
  {
   "cell_type": "code",
   "execution_count": 8,
   "metadata": {},
   "outputs": [
    {
     "name": "stdout",
     "output_type": "stream",
     "text": [
      "\n",
      " Downloading: https://www.youtube.com/watch?v=mmpouDqqVH0 ...\n",
      "[youtube] mmpouDqqVH0: Downloading webpage\n",
      "[youtube] mmpouDqqVH0: Downloading video info webpage\n",
      "[youtube] mmpouDqqVH0: Extracting video information\n",
      "[youtube] mmpouDqqVH0: Downloading MPD manifest\n",
      "[youtube] mmpouDqqVH0: Downloading MPD manifest\n",
      "[dashsegments] Total fragments: 6\n",
      "[download] Destination: /Volumes/EXTERNAL/MusicEngine/mmpouDqqVH0.m4a\n",
      "[download] 100% of 540.87KiB in 00:02.56MiB/s ETA 00:0000\n",
      "[ffmpeg] Correcting container in \"/Volumes/EXTERNAL/MusicEngine/mmpouDqqVH0.m4a\"\n",
      "[ffmpeg] Destination: /Volumes/EXTERNAL/MusicEngine/mmpouDqqVH0.mp3\n",
      "Deleting original file /Volumes/EXTERNAL/MusicEngine/mmpouDqqVH0.m4a (pass -k to keep)\n",
      "->> 2 more to go\n",
      "\n",
      " Downloading: https://www.youtube.com/watch?v=zdMGDj0y0ww ...\n",
      "[youtube] zdMGDj0y0ww: Downloading webpage\n",
      "[youtube] zdMGDj0y0ww: Downloading video info webpage\n"
     ]
    },
    {
     "name": "stderr",
     "output_type": "stream",
     "text": [
      "ERROR: zdMGDj0y0ww: YouTube said: This video has been removed by the user.\n"
     ]
    },
    {
     "name": "stdout",
     "output_type": "stream",
     "text": [
      "\n",
      "Video https://www.youtube.com/watch?v=zdMGDj0y0ww has been removed\n",
      "->> 1 more to go\n",
      "\n",
      " Downloading: https://www.youtube.com/watch?v=twcMyUrW4bw ...\n",
      "[youtube] twcMyUrW4bw: Downloading webpage\n",
      "[youtube] twcMyUrW4bw: Downloading video info webpage\n",
      "[youtube] twcMyUrW4bw: Extracting video information\n",
      "[youtube] twcMyUrW4bw: Downloading MPD manifest\n",
      "[download] Destination: /Volumes/EXTERNAL/MusicEngine/twcMyUrW4bw.m4a\n",
      "[download] 100% of 611.41KiB in 00:0088MiB/s ETA 00:000\n",
      "[ffmpeg] Correcting container in \"/Volumes/EXTERNAL/MusicEngine/twcMyUrW4bw.m4a\"\n",
      "[ffmpeg] Destination: /Volumes/EXTERNAL/MusicEngine/twcMyUrW4bw.mp3\n",
      "Deleting original file /Volumes/EXTERNAL/MusicEngine/twcMyUrW4bw.m4a (pass -k to keep)\n",
      "->> 0 more to go\n",
      "\n",
      "The downloading of videos has been completed ....\n",
      "\n",
      "Go get a coffee\n"
     ]
    }
   ],
   "source": [
    "### This code is the same as above, but here I download the additional non-cases songs found in the tagging\n",
    "import youtube_dl\n",
    "import pandas as pd\n",
    "import time\n",
    "import random\n",
    "import os\n",
    "\n",
    "video_links_input_location = \"/Users/valentin/Documents/MusicEngine\"\n",
    "\n",
    "# Read the XLS file with the links Bijan sent to YouTube\n",
    "download_videos = pd.read_excel(video_links_input_location + \"/download_videos_test.xlsx\")\n",
    "video_links = download_videos[\"video_link\"].tolist()\n",
    "\n",
    "videos_counter = len(video_links) - 1\n",
    "\n",
    "# Loop through the list of videos\n",
    "for i in range(len(video_links)):\n",
    "    \n",
    "    video_url = video_links[i]\n",
    "    print (\"\\n\", \"Downloading: %s ...\" % video_url)\n",
    "    time.sleep(random.uniform(0, 0.5))\n",
    "\n",
    "    # Provide options to the youtube-dl package\n",
    "    options = {\n",
    "      \"format\": \"bestaudio/best\",\n",
    "      \"extractaudio\" : True,                                                     # Only keep the audio\n",
    "      \"audioformat\" : \"mp3\",                                                     # Convert donwloaded file to mp3 \n",
    "      \"outtmpl\": \"/Volumes/EXTERNAL/MusicEngine/%(id)s.%(ext)s\",   # name the file the ID of the video\n",
    "      \"noplaylist\" : True,                                                       # only download single song, not playlist\n",
    "      \"postprocessors\": [{                                                       # The postprocessor specifies to convert the downloaded content to MP3. The original download is usually in m4a format\n",
    "          \"key\": \"FFmpegExtractAudio\",\n",
    "          \"preferredcodec\": \"mp3\",\n",
    "          \"preferredquality\": \"192\"\n",
    "      }]\n",
    "    }\n",
    "\n",
    "    try:\n",
    "        with youtube_dl.YoutubeDL(options) as ydl:\n",
    "            ydl.download([video_url])\n",
    "\n",
    "    except:\n",
    "        print(\"\\nVideo %s has been removed\" % (video_url))\n",
    "    print(\"->> %s more to go\" % videos_counter)\n",
    "    videos_counter -= 1\n",
    "        \n",
    "print (\"\\nThe downloading of videos has been completed ....\")\n",
    "print (\"\\nGo get a coffee\")\n",
    "\n",
    "# Download metadata\n",
    "#ydl = youtube_dl.YoutubeDL()\n",
    "#r = None\n",
    "\n",
    "#with ydl:\n",
    "    # don't download, much faster \n",
    "#    r = ydl.extract_info(video_url, download=False)  \n",
    "\n",
    "#print some typical fields\n",
    "#print \"%s uploaded by \"%s\", has %d views, %d likes, and %d dislikes\" % (\n",
    "#    r[\"title\"], r[\"uploader\"], r[\"view_count\"], r[\"like_count\"], r[\"dislike_count\"])\n",
    "    "
   ]
  },
  {
   "cell_type": "code",
   "execution_count": 9,
   "metadata": {
    "collapsed": true
   },
   "outputs": [],
   "source": [
    "video_links_input_location = \"/Users/valentin/Documents/MusicEngine\"\n",
    "\n",
    "# Read the list of non-cases I found and subtract the ones that are already downloaded\n",
    "download_videos = pd.read_excel(video_links_input_location + \"/download_videos.xlsx\")\n",
    "video_links_idx = [x.split(\"?v=\")[1] for x in download_videos[\"video_link\"].tolist()]\n",
    "\n",
    "video_non_cases_downloaded_idx = [x.split(\".mp3\")[0] for x in os.listdir(\"/Volumes/EXTERNAL/MusicEngine/mp3/non_cases\")]\n",
    "video_links = list(set(video_links_idx) - set(video_non_cases_downloaded_idx))\n"
   ]
  },
  {
   "cell_type": "code",
   "execution_count": 10,
   "metadata": {},
   "outputs": [
    {
     "data": {
      "text/plain": [
       "430"
      ]
     },
     "execution_count": 10,
     "metadata": {},
     "output_type": "execute_result"
    }
   ],
   "source": [
    "len(video_links)"
   ]
  },
  {
   "cell_type": "code",
   "execution_count": null,
   "metadata": {
    "collapsed": true
   },
   "outputs": [],
   "source": []
  }
 ],
 "metadata": {
  "kernelspec": {
   "display_name": "Python [conda root]",
   "language": "python",
   "name": "conda-root-py"
  },
  "language_info": {
   "codemirror_mode": {
    "name": "ipython",
    "version": 3
   },
   "file_extension": ".py",
   "mimetype": "text/x-python",
   "name": "python",
   "nbconvert_exporter": "python",
   "pygments_lexer": "ipython3",
   "version": "3.5.2"
  }
 },
 "nbformat": 4,
 "nbformat_minor": 2
}

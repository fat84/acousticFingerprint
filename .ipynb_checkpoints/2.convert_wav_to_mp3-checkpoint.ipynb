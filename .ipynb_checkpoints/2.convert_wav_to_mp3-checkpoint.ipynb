{
 "cells": [
  {
   "cell_type": "code",
   "execution_count": 1,
   "metadata": {},
   "outputs": [
    {
     "data": {
      "text/plain": [
       "<_io.BufferedRandom name='/Users/valentin/Documents/GitHub/MusicEngine/0lvDqjB9RZI.wav'>"
      ]
     },
     "execution_count": 1,
     "metadata": {},
     "output_type": "execute_result"
    }
   ],
   "source": [
    "# Convert MP3 to WAV\n",
    "# Music stored as .WAV, are the audio waves stored as numbers, and MP3 files are a compressed version of the .WAV\n",
    "# source: https://stackoverflow.com/questions/3049572/how-to-convert-mp3-to-wav-in-python\n",
    "\n",
    "# Another way to convert from mp3 to wav\n",
    "# import subprocess\n",
    "# subprocess.call(['ffmpeg', '-i', '/Users/valentin/Desktop/temp/0lvDqjB9RZI.mp3', '/Users/valentin/Desktop/temp/0lvDqjB9RZI.wav'])\n",
    "\n",
    "import pydub\n",
    "import os\n",
    "\n",
    "sound = pydub.AudioSegment.from_mp3(\"/Users/valentin/Documents/GitHub/MusicEngine/0lvDqjB9RZI.mp3\")\n",
    "sound.export(\"/Users/valentin/Documents/GitHub/MusicEngine/0lvDqjB9RZI.wav\", format = \"wav\")\n"
   ]
  },
  {
   "cell_type": "code",
   "execution_count": null,
   "metadata": {
    "collapsed": true
   },
   "outputs": [],
   "source": []
  }
 ],
 "metadata": {
  "kernelspec": {
   "display_name": "Python [conda root]",
   "language": "python",
   "name": "conda-root-py"
  },
  "language_info": {
   "codemirror_mode": {
    "name": "ipython",
    "version": 3
   },
   "file_extension": ".py",
   "mimetype": "text/x-python",
   "name": "python",
   "nbconvert_exporter": "python",
   "pygments_lexer": "ipython3",
   "version": "3.5.2"
  }
 },
 "nbformat": 4,
 "nbformat_minor": 2
}

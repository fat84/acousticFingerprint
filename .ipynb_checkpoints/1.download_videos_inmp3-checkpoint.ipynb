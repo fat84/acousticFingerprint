{
 "cells": [
  {
   "cell_type": "markdown",
   "metadata": {},
   "source": [
    "### This is a program to download mp3 files from YouTube\n",
    "The implementation is using two different methods: 1) Using the youtube-dl package, and 2) Use the YouTubeInMp3 API\n"
   ]
  },
  {
   "cell_type": "markdown",
   "metadata": {},
   "source": [
    "##### The dependencies for many AV packages in Python are a couple\n",
    "1) FFMPEG decoder to convert from m4a format to mp3. Instructions on how to install it are here: https://superuser.com/questions/624561/install-ffmpeg-on-os-x\n",
    "\n",
    "Homebrew\n",
    "\n",
    "Homebrew has a formula for stable FFmpeg releases. This will get you running pretty fast. First, install Homebrew by opening Terminal.app and and pasting this. Follow all the instructions closely!\n",
    "\n",
    "ruby -e \"$(curl -fsSL https://raw.githubusercontent.com/Homebrew/install/master/install)\"\n",
    "\n",
    "Then install FFmpeg through the ffmpeg formula:\n",
    "\n",
    "brew install ffmpeg\n",
    "\n",
    "This will download a lot of dependencies such as x264, but after that you should be good to go.\n",
    "For additional options, check the output of brew info ffmpeg. You can, for example, add the following options, which are normally disabled:\n",
    "\n",
    "brew install ffmpeg --with-fdk-aac --with-ffplay --with-freetype --with-libass  --with-libvorbis --with-libvpx --with-opus --with-x265\n",
    "\n",
    "To update ffmpeg later on, run:\n",
    "brew update && brew upgrade ffmpeg\n"
   ]
  },
  {
   "cell_type": "code",
   "execution_count": 4,
   "metadata": {},
   "outputs": [
    {
     "name": "stdout",
     "output_type": "stream",
     "text": [
      "[youtube] 0lvDqjB9RZI: Downloading webpage\n",
      "[youtube] 0lvDqjB9RZI: Downloading video info webpage\n",
      "[youtube] 0lvDqjB9RZI: Extracting video information\n",
      "[youtube] 0lvDqjB9RZI: Downloading MPD manifest\n",
      "[youtube] 0lvDqjB9RZI: Downloading MPD manifest\n",
      "[dashsegments] Total fragments: 18\n",
      "[download] Destination: 0lvDqjB9RZI.m4a\n",
      "[download] 100% of 1.24MiB in 00:01.63MiB/s ETA 00:000132\n",
      "[ffmpeg] Correcting container in \"0lvDqjB9RZI.m4a\"\n",
      "[ffmpeg] Destination: 0lvDqjB9RZI.mp3\n",
      "Deleting original file 0lvDqjB9RZI.m4a (pass -k to keep)\n"
     ]
    }
   ],
   "source": [
    "### Method 1 - download using youtube-dl package (downloads and converts the m4a to mp3)\n",
    "\n",
    "# Source for code is here: http://willdrevo.com/downloading-youtube-and-soundcloud-audio-with-python-and-pandas\n",
    "# More here: https://stackoverflow.com/questions/27473526/download-only-audio-from-youtube-video-using-youtube-dl-in-python-script\n",
    "# More on youtube-dl here: https://github.com/rg3/youtube-dl/blob/master/README.md#readme\n",
    "\n",
    "# The content from this script is downloaded here by default: /Users/valentin/Documents/GitHub/MusicEngine\n",
    "\n",
    "## IT WORKSSSS  !!!!!!!!!!!!!!!!!!!!\n",
    "\n",
    "\n",
    "import youtube_dl\n",
    "\n",
    "video_url = \"https://www.youtube.com/watch?v=0lvDqjB9RZI\"\n",
    "\n",
    "options = {\n",
    "  'format': 'bestaudio/best',\n",
    "  'extractaudio' : True,           # only keep the audio\n",
    "  'audioformat' : \"mp3\",           # convert to mp3 \n",
    "  'outtmpl': u'%(id)s.%(ext)s',    # name the file the ID of the video\n",
    "  'noplaylist' : True,             # only download single song, not playlist\n",
    "  'postprocessors': [{\n",
    "      'key': 'FFmpegExtractAudio',\n",
    "      'preferredcodec': 'mp3',\n",
    "      'preferredquality': '192'\n",
    "  }]\n",
    "}\n",
    "\n",
    "with youtube_dl.YoutubeDL(options) as ydl:\n",
    "    ydl.download([video_url])\n",
    "\n",
    "    \n",
    "# Download metadata\n",
    "#ydl = youtube_dl.YoutubeDL()\n",
    "#r = None\n",
    "\n",
    "#with ydl:\n",
    "    # don't download, much faster \n",
    "#    r = ydl.extract_info(video_url, download=False)  \n",
    "\n",
    "# print some typical fields\n",
    "#print \"%s uploaded by '%s', has %d views, %d likes, and %d dislikes\" % (\n",
    "#    r['title'], r['uploader'], r['view_count'], r['like_count'], r['dislike_count'])\n",
    "    "
   ]
  },
  {
   "cell_type": "code",
   "execution_count": null,
   "metadata": {
    "collapsed": true
   },
   "outputs": [],
   "source": []
  },
  {
   "cell_type": "code",
   "execution_count": null,
   "metadata": {
    "collapsed": true
   },
   "outputs": [],
   "source": []
  },
  {
   "cell_type": "code",
   "execution_count": null,
   "metadata": {
    "collapsed": true
   },
   "outputs": [],
   "source": []
  },
  {
   "cell_type": "code",
   "execution_count": null,
   "metadata": {
    "collapsed": true
   },
   "outputs": [],
   "source": []
  },
  {
   "cell_type": "code",
   "execution_count": null,
   "metadata": {
    "collapsed": true
   },
   "outputs": [],
   "source": [
    "#### Method 2 - using PaFy (it works - However, I need to convert the auido from m4a to mp3 afterwards)\n",
    "# https://pypi.python.org/pypi/pafy\n",
    "\n",
    "import pafy\n",
    "\n",
    "# Create a video instance from a YouTube url:\n",
    "\n",
    "url = \"https://www.youtube.com/watch?v=0lvDqjB9RZI\"\n",
    "video = pafy.new(url)\n",
    "\n",
    "# Get certain attributes:\n",
    "video.title\n",
    "video.rating\n",
    "video.viewcount\n",
    "video.author\n",
    "video.length\n",
    "video.duration\n",
    "video.likes\n",
    "video.dislikes\n",
    "print(video.description)\n",
    "\n",
    "\n",
    "# List available streams for a video:\n",
    "streams = video.streams\n",
    "for s in streams:\n",
    "    print(s)\n",
    "\n",
    "# Show all formats, file-sizes and their download url:\n",
    "for s in streams:\n",
    "    print(s.resolution, s.extension, s.get_filesize(), s.url)\n",
    "\n",
    "#### Audio functions\n",
    "# Get audio-only streams (m4a and/or ogg vorbis):\n",
    "audiostreams = video.audiostreams\n",
    "for a in audiostreams:\n",
    "    print(a.bitrate, a.extension, a.get_filesize())\n",
    "\n",
    "# Download the 2nd audio stream from the above list:\n",
    "audiostreams[1].download()\n",
    "\n",
    "# Get the best quality audio stream:\n",
    "bestaudio = video.getbestaudio()\n",
    "bestaudio.bitrate\n",
    "\n",
    "# Download the best quality audio file:\n",
    "bestaudio.download()\n"
   ]
  },
  {
   "cell_type": "code",
   "execution_count": null,
   "metadata": {
    "collapsed": true
   },
   "outputs": [],
   "source": []
  },
  {
   "cell_type": "code",
   "execution_count": null,
   "metadata": {
    "collapsed": true
   },
   "outputs": [],
   "source": []
  }
 ],
 "metadata": {
  "kernelspec": {
   "display_name": "Python [conda root]",
   "language": "python",
   "name": "conda-root-py"
  },
  "language_info": {
   "codemirror_mode": {
    "name": "ipython",
    "version": 3
   },
   "file_extension": ".py",
   "mimetype": "text/x-python",
   "name": "python",
   "nbconvert_exporter": "python",
   "pygments_lexer": "ipython3",
   "version": "3.5.2"
  }
 },
 "nbformat": 4,
 "nbformat_minor": 2
}

{
 "cells": [
  {
   "cell_type": "markdown",
   "metadata": {},
   "source": [
    "#### Formula to calculate MP3 file size\n",
    "\n",
    "song_length = length of song in seconds\n",
    "<n>\n",
    "bitrate = bitrate in kilobits per second\n",
    "\n",
    "size_in_kb = (song_length * bitrate) / 8\n",
    "\n",
    "We divide by 8 to get the result in bytes.\n",
    "\n",
    "So for example if you have a 3 minute song\n",
    "3 minutes = 180 seconds\n",
    "128kbps * 180 seconds = 23,040 kilobits of data / 8 = 2880 kb"
   ]
  },
  {
   "cell_type": "code",
   "execution_count": 29,
   "metadata": {},
   "outputs": [
    {
     "data": {
      "text/plain": [
       "110812.5"
      ]
     },
     "execution_count": 29,
     "metadata": {},
     "output_type": "execute_result"
    }
   ],
   "source": [
    "song_hours = 1\n",
    "song_minutes = 15\n",
    "song_seconds = 0\n",
    "song_length_seconds = (song_hours*3600 + song_minutes*60 + song_seconds)\n",
    "bitrate_kb = 197                              # All songs from YouTube seem to be in 197kb bitrate\n",
    "\n",
    "song_size_kb = (song_length_seconds * bitrate_kb) / 8\n",
    "song_size_mb = song_size_kb / 1024\n",
    "\n",
    "song_size_kb"
   ]
  },
  {
   "cell_type": "code",
   "execution_count": null,
   "metadata": {
    "collapsed": true
   },
   "outputs": [],
   "source": []
  }
 ],
 "metadata": {
  "kernelspec": {
   "display_name": "Python [conda root]",
   "language": "python",
   "name": "conda-root-py"
  },
  "language_info": {
   "codemirror_mode": {
    "name": "ipython",
    "version": 3
   },
   "file_extension": ".py",
   "mimetype": "text/x-python",
   "name": "python",
   "nbconvert_exporter": "python",
   "pygments_lexer": "ipython3",
   "version": "3.5.2"
  }
 },
 "nbformat": 4,
 "nbformat_minor": 2
}

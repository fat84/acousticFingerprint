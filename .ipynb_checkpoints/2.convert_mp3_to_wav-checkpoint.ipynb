{
 "cells": [
  {
   "cell_type": "code",
   "execution_count": 36,
   "metadata": {},
   "outputs": [
    {
     "name": "stdout",
     "output_type": "stream",
     "text": [
      "Starting the conversion from WAV to MP3...\n",
      "\n",
      "Convert song:  -gr9WG1AKPQ.mp3\n",
      "Convert song:  -l1LsJb2bf4.mp3\n",
      "Convert song:  -X1TxnIiM5k.mp3\n",
      "Convert song:  1YmyluBAFVw.mp3\n",
      "\n",
      "The conversion for all songs was completed\n"
     ]
    }
   ],
   "source": [
    "# Convert MP3 to WAV\n",
    "# Music stored as .WAV, are the audio waves stored as numbers, and MP3 files are a compressed version of the .WAV\n",
    "# source: https://stackoverflow.com/questions/3049572/how-to-convert-mp3-to-wav-in-python\n",
    "\n",
    "# Another way to convert from mp3 to wav\n",
    "# import subprocess\n",
    "# subprocess.call(['ffmpeg', '-i', '/Users/valentin/Desktop/temp/0lvDqjB9RZI.mp3', '/Users/valentin/Desktop/temp/0lvDqjB9RZI.wav'])\n",
    "\n",
    "import pydub\n",
    "import os\n",
    "import time\n",
    "import re\n",
    "\n",
    "files_location_in = \"/Users/valentin/Documents/MusicEngine/mp3/\"\n",
    "files_location_out = \"/Users/valentin/Documents/MusicEngine/wav/\"\n",
    "\n",
    "# Create a list with all the MP3 files in the directory and convert from MP3 to WAV\n",
    "song_id_list = os.listdir(files_location_in)\n",
    "\n",
    "print(\"Starting the conversion from WAV to MP3...\\n\")\n",
    "time.sleep(1)\n",
    "\n",
    "# Convert MP3 and save as WAV\n",
    "for song_id in song_id_list:    \n",
    "    if song_id.find(\"mp3\") > 0:\n",
    "        print(\"Convert song: \", song_id)\n",
    "        sound = pydub.AudioSegment.from_mp3(files_location_in + song_id)\n",
    "        sound.export(files_location_out + song_id.split(\".mp3\")[0] + \".wav\", format = \"wav\")\n",
    "print(\"\\nThe conversion for all songs was completed\")"
   ]
  },
  {
   "cell_type": "code",
   "execution_count": null,
   "metadata": {
    "collapsed": true
   },
   "outputs": [],
   "source": []
  },
  {
   "cell_type": "code",
   "execution_count": 26,
   "metadata": {},
   "outputs": [],
   "source": [
    "import re"
   ]
  },
  {
   "cell_type": "code",
   "execution_count": 33,
   "metadata": {},
   "outputs": [
    {
     "data": {
      "text/plain": [
       "['-gr9WG1AKPQ', '']"
      ]
     },
     "execution_count": 33,
     "metadata": {},
     "output_type": "execute_result"
    }
   ],
   "source": [
    "song_id_list[1].split(\".mp3\")[0]"
   ]
  },
  {
   "cell_type": "code",
   "execution_count": 18,
   "metadata": {},
   "outputs": [
    {
     "data": {
      "text/plain": [
       "['-8lbcHv9K9E.mp3',\n",
       " '-gr9WG1AKPQ.mp3',\n",
       " '-l1LsJb2bf4.mp3',\n",
       " '-X1TxnIiM5k.mp3',\n",
       " '.DS_Store',\n",
       " '1YmyluBAFVw.mp3',\n",
       " '2kvAahQmWnc.mp3',\n",
       " '2uj3cyFlgoo.mp3',\n",
       " '3Vv4g-Jk7nY.mp3',\n",
       " '3Xocx-usvhM.mp3',\n",
       " '6h_ZvxvrRnM.mp3',\n",
       " '6HUeXubeln0.mp3',\n",
       " '8AMERMvF6r4.mp3',\n",
       " 'aafWNkpzBZk.mp3',\n",
       " 'Au7p4gG4Y74.mp3',\n",
       " 'BjlHwsb05No.mp3',\n",
       " 'CIsAp_Pq5Oc.mp3',\n",
       " 'DX3k8ZJxric.mp3',\n",
       " 'eCbqtnxuWa0.mp3',\n",
       " 'fQQMeekQ8MQ.mp3',\n",
       " 'Fu-MFKKepgA.mp3',\n",
       " 'G7Qdo4_EESk.mp3',\n",
       " 'H4DpmEieE7A.mp3',\n",
       " 'hqre1-4iGwc.mp3',\n",
       " 'j-IvJyYYwV0.mp3',\n",
       " 'k3lz248TxUA.mp3',\n",
       " 'k7oi6Fi5AbE.mp3',\n",
       " 'LJUOzulZ4dQ.mp3',\n",
       " 'MNKoDB06Jew.mp3',\n",
       " 'o2um_45HiPg.mp3',\n",
       " 'of3Rvpvbr4I.mp3',\n",
       " 'p7ecCEqHSfo.mp3',\n",
       " 'QCuPjbLwzqI.mp3',\n",
       " 'R7ACM4Z3RXo.mp3',\n",
       " 'rSeiO6qwz-M.mp3',\n",
       " 'rtxsCKmwpcI.mp3',\n",
       " 'S5lxZDNqRzg.mp3',\n",
       " 'TARGET_Biz_Amulet.mp3',\n",
       " 'TEFwE27yZl0.mp3',\n",
       " 'UIK0eDy22K0.mp3',\n",
       " 'uXtfQCNf3JA.mp3',\n",
       " 'Vaes5S7NdIc.mp3',\n",
       " 'WPxKvUhZwMs.mp3',\n",
       " 'zmfiysaNwYA.mp3']"
      ]
     },
     "execution_count": 18,
     "metadata": {},
     "output_type": "execute_result"
    }
   ],
   "source": [
    "song_id_list[1]"
   ]
  },
  {
   "cell_type": "code",
   "execution_count": null,
   "metadata": {
    "collapsed": true
   },
   "outputs": [],
   "source": []
  }
 ],
 "metadata": {
  "kernelspec": {
   "display_name": "Python [conda root]",
   "language": "python",
   "name": "conda-root-py"
  },
  "language_info": {
   "codemirror_mode": {
    "name": "ipython",
    "version": 3
   },
   "file_extension": ".py",
   "mimetype": "text/x-python",
   "name": "python",
   "nbconvert_exporter": "python",
   "pygments_lexer": "ipython3",
   "version": "3.5.2"
  }
 },
 "nbformat": 4,
 "nbformat_minor": 2
}
